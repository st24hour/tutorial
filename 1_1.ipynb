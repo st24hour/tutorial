{
  "nbformat": 4,
  "nbformat_minor": 0,
  "metadata": {
    "colab": {
      "name": "1_1.ipynb",
      "version": "0.3.2",
      "provenance": [],
      "private_outputs": true,
      "collapsed_sections": [],
      "toc_visible": true,
      "include_colab_link": true
    },
    "kernelspec": {
      "name": "python3",
      "display_name": "Python 3"
    },
    "accelerator": "GPU"
  },
  "cells": [
    {
      "cell_type": "markdown",
      "metadata": {
        "id": "view-in-github",
        "colab_type": "text"
      },
      "source": [
        "<a href=\"https://colab.research.google.com/github/st24hour/tutorial/blob/master/1_1.ipynb\" target=\"_parent\"><img src=\"https://colab.research.google.com/assets/colab-badge.svg\" alt=\"Open In Colab\"/></a>"
      ]
    },
    {
      "metadata": {
        "colab_type": "text",
        "id": "rX8mhOLljYeM"
      },
      "cell_type": "markdown",
      "source": [
        "##### Copyright 2018 The TensorFlow Authors.\n",
        "\n",
        "Licensed under the Apache License, Version 2.0 (the \"License\");"
      ]
    },
    {
      "metadata": {
        "id": "aVaBHnXYPr7V",
        "colab_type": "text"
      },
      "cell_type": "markdown",
      "source": [
        "For more examples and guides , see [Get Started with TensorFlow](https://www.tensorflow.org/get_started/)."
      ]
    },
    {
      "metadata": {
        "colab_type": "text",
        "id": "3wF5wszaj97Y"
      },
      "cell_type": "markdown",
      "source": [
        "# Session1.1"
      ]
    },
    {
      "metadata": {
        "colab_type": "text",
        "id": "hiH7AC-NTniF"
      },
      "cell_type": "markdown",
      "source": [
        "Let's get started, import the TensorFlow library into your program:"
      ]
    },
    {
      "metadata": {
        "colab_type": "code",
        "id": "0trJmd6DjqBZ",
        "colab": {}
      },
      "cell_type": "code",
      "source": [
        "from __future__ import absolute_import, division, print_function\n",
        "import tensorflow as tf"
      ],
      "execution_count": 0,
      "outputs": []
    },
    {
      "metadata": {
        "colab_type": "text",
        "id": "7NAbSZiaoJ4z"
      },
      "cell_type": "markdown",
      "source": [
        "##Load and prepare the [MNIST](http://yann.lecun.com/exdb/mnist/) dataset. \n",
        "\n",
        "Keras is a high-level API to build and train deep learning models. [tf.keras](https://www.tensorflow.org/guide/keras#sequential_model) is TensorFlow's implementation of the Keras API specification.\n",
        "\n",
        "You can access the MNIST directly from TensorFlow, just import and load the data:\n"
      ]
    },
    {
      "metadata": {
        "colab_type": "code",
        "id": "7FP5258xjs-v",
        "colab": {}
      },
      "cell_type": "code",
      "source": [
        "mnist = tf.keras.datasets.mnist\n",
        "\n",
        "(x_train, y_train), (x_test, y_test) = mnist.load_data()"
      ],
      "execution_count": 0,
      "outputs": []
    },
    {
      "metadata": {
        "id": "i5UAwkJ8BkHE",
        "colab_type": "text"
      },
      "cell_type": "markdown",
      "source": [
        "Loading the dataset returns four NumPy arrays:\n",
        "\n",
        "*   The x_train and y_train arrays are the training set—the data the model uses to learn.\n",
        "*   The model is tested against the test set, the x_test, and y_test arrays.\n",
        "\n",
        "The images are 28x28 NumPy arrays, with pixel values ranging between 0 and 255. The labels are an array of integers, ranging from 0 to 9."
      ]
    },
    {
      "metadata": {
        "id": "_5C2rogmDnG5",
        "colab_type": "text"
      },
      "cell_type": "markdown",
      "source": [
        "We scale these values to a range of 0 to 1 before feeding to the neural network model. For this, we divide the values by 255. It's important that the *training set* and the *testing set* are preprocessed in the same way:"
      ]
    },
    {
      "metadata": {
        "id": "im9em6loB1Od",
        "colab_type": "code",
        "colab": {}
      },
      "cell_type": "code",
      "source": [
        "# Convert the samples from integers to floating-point numbers\n",
        "x_train, x_test = x_train / 255.0, x_test / 255.0"
      ],
      "execution_count": 0,
      "outputs": []
    },
    {
      "metadata": {
        "colab_type": "text",
        "id": "BPZ68wASog_I"
      },
      "cell_type": "markdown",
      "source": [
        "## Build the `tf.keras` model by stacking layers \n",
        "\n",
        "The basic building block of a neural network is the layer. Layers extract representations from the data fed into them. And, hopefully, these representations are more meaningful for the problem at hand.\n",
        "\n",
        "Most of deep learning consists of chaining together simple layers. Most layers, like tf.keras.layers.Dense, have parameters that are learned during training.\n",
        "\n",
        "[tf.keras.models.Sequential](https://www.tensorflow.org/api_docs/python/tf/keras/models/Sequential#__init__) : Linear stack of layers.\n",
        "\n",
        "Refer : <br>\n",
        "**tf.keras.layers.Flatten**\n",
        "**tf.keras.layers.Dense(units, activation=None)**<br>\n",
        "**tf.keras.layers.Conv1D(filters,  kernel_size, strides=1,padding='valid', activation=None)**<br>\n",
        "**tf.keras.layers.Conv2D(filters,  kernel_size, strides=(1, 1),padding='valid', activation=None)**<br>\n",
        "**tf.keras.layers.MaxPool2D(pool_size=(2, 2), strides=None, padding='valid')**<br>\n",
        "**tf.keras.layers.ReLU()**<br>\n",
        "**tf.keras.layers.BatchNormalization()**<br>\n",
        "**tf.keras.layers.Dropout(rate)**<br>\n",
        "**tf.keras.layers.Softmax()**<br>\n",
        "**tf.keras.activations.relu(x)**\n",
        "\n",
        "For more examepls, see [tf.keras.layers](https://www.tensorflow.org/api_docs/python/tf/keras/layers).\n",
        "\n",
        "\n",
        "\n"
      ]
    },
    {
      "metadata": {
        "colab_type": "code",
        "id": "h3IKyzTCDNGo",
        "colab": {}
      },
      "cell_type": "code",
      "source": [
        "model = tf.keras.models.Sequential([\n",
        "  tf.keras.layers.Flatten(input_shape=(28, 28)),\n",
        "  tf.keras.layers.Dense(512, activation=tf.keras.activations.relu),\n",
        "  tf.keras.layers.Dropout(0.2),\n",
        "  tf.keras.layers.Dense(10),\n",
        "  tf.keras.layers.Softmax()\n",
        "])"
      ],
      "execution_count": 0,
      "outputs": []
    },
    {
      "metadata": {
        "id": "gUOAksUWHdXs",
        "colab_type": "text"
      },
      "cell_type": "markdown",
      "source": [
        "The first layer in this network, tf.keras.layers.Flatten, transforms the format of the images from a 2d-array (of 28 by 28 pixels), to a 1d-array of 28 * 28 = 784 pixels. Think of this layer as unstacking rows of pixels in the image and lining them up. This layer has no parameters to learn; it only reformats the data.\n",
        "After the pixels are flattened, the network consists of a sequence of two tf.keras.layers.Dense layers. These are densely-connected, or fully-connected, neural layers. The first Dense layer has 512 nodes (or neurons). The second (and last) layer is a 10-node softmax layer—this returns an array of 10 probability scores that sum to 1. Each node contains a score that indicates the probability that the current image belongs to one of the 10 classes."
      ]
    },
    {
      "metadata": {
        "id": "KSgblQ9-GbPg",
        "colab_type": "text"
      },
      "cell_type": "markdown",
      "source": [
        "##Exercise: Make convolutional neural network\n",
        "\n",
        "<table>\n",
        "  <tr><td>\n",
        "    <img src=\"https://i.ibb.co/3TvZBf8/figure1.png\" width=\"200\">\n",
        "  </td></tr>\n",
        "</table>"
      ]
    },
    {
      "metadata": {
        "id": "L3VVQNfGGb0w",
        "colab_type": "code",
        "colab": {}
      },
      "cell_type": "code",
      "source": [
        "# # your code here\n",
        "\n",
        "# x_train = x_train.reshape(x_train.shape[0], 28, 28, 1).astype('float32')\n",
        "# x_test = x_test.reshape(x_test.shape[0], 28, 28, 1).astype('float32')\n"
      ],
      "execution_count": 0,
      "outputs": []
    },
    {
      "metadata": {
        "id": "Npt5DM6NGgtZ",
        "colab_type": "text"
      },
      "cell_type": "markdown",
      "source": [
        "###Answer\n",
        "```\n",
        "x_train = x_train.reshape(x_train.shape[0], 28, 28, 1).astype('float32')\n",
        "x_test = x_test.reshape(x_test.shape[0], 28, 28, 1).astype('float32')\n",
        "\n",
        "model = tf.keras.models.Sequential([\n",
        "  tf.keras.layers.Conv2D(32, (3,3)),\n",
        "  tf.keras.layers.BatchNormalization(),\n",
        "  tf.keras.layers.ReLU(),\n",
        "  tf.keras.layers.Conv2D(64, (3,3), activation=tf.keras.activations.relu),\n",
        "  tf.keras.layers.MaxPool2D(pool_size=(2, 2), strides=(2,2)),\n",
        "  tf.keras.layers.Conv2D(128, (3,3)),\n",
        "  tf.keras.layers.Flatten(),\n",
        "  tf.keras.layers.Dropout(0.2),\n",
        "  tf.keras.layers.Dense(10),\n",
        "  tf.keras.layers.Softmax()\n",
        "])\n",
        "```"
      ]
    },
    {
      "metadata": {
        "id": "o7DlCw5slgFk",
        "colab_type": "text"
      },
      "cell_type": "markdown",
      "source": [
        "## Select an optimizer and loss function used for training.\n",
        "\n",
        "Before the model is ready for training, it needs a few more settings. These are added during the model's compile step:\n",
        "Loss function —This measures how accurate the model is during training. We want to minimize this function to \"steer\" the model in the right direction.\n",
        "Optimizer —This is how the model is updated based on the data it sees and its loss function.\n",
        "Metrics —Used to monitor the training and testing steps. The following example uses accuracy, the fraction of the images that are correctly classified."
      ]
    },
    {
      "metadata": {
        "id": "RbqFAPjVleTl",
        "colab_type": "code",
        "colab": {}
      },
      "cell_type": "code",
      "source": [
        "sgd = tf.keras.optimizers.SGD(lr=0.01, momentum=0.9)\n",
        "\n",
        "model.compile(optimizer=sgd,\n",
        "              loss='sparse_categorical_crossentropy',\n",
        "              metrics=['accuracy'])"
      ],
      "execution_count": 0,
      "outputs": []
    },
    {
      "metadata": {
        "colab_type": "text",
        "id": "ix4mEL65on-w"
      },
      "cell_type": "markdown",
      "source": [
        "##Train and evaluate model:\n",
        "\n",
        "Training the neural network model requires the following steps:\n",
        "\n",
        "1. Feed the training data to the model—in this example, the `x_train` and `y_train` arrays.\n",
        "2. The model learns to associate images and labels.\n",
        "3. We ask the model to make predictions about a test set—in this example, the `x_test` array. We verify that the predictions match the labels from the `y_test` array. \n",
        "\n",
        "To start training,  call the `model.fit` method—the model is \"fit\" to the training data:"
      ]
    },
    {
      "metadata": {
        "colab_type": "code",
        "id": "F7dTAzgHDUh7",
        "colab": {}
      },
      "cell_type": "code",
      "source": [
        "model.fit(x_train, y_train, epochs=10, batch_size=128)\n",
        "\n",
        "model.evaluate(x_test, y_test)"
      ],
      "execution_count": 0,
      "outputs": []
    },
    {
      "metadata": {
        "colab_type": "text",
        "id": "T4JfEh7kvx6m"
      },
      "cell_type": "markdown",
      "source": [
        "You’ve now trained an image classifier with ~98% accuracy on this dataset."
      ]
    }
  ]
}